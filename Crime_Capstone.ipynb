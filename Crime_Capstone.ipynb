{
 "cells": [
  {
   "cell_type": "code",
   "execution_count": null,
   "metadata": {},
   "outputs": [],
   "source": [
    "#load packages for webscraping & descriptive statistics\n",
    "import pandas as pd\n",
    "import numpy as np\n",
    "import requests\n",
    "from bs4 import BeautifulSoup as soup\n",
    "import csv"
   ]
  },
  {
   "cell_type": "code",
   "execution_count": null,
   "metadata": {},
   "outputs": [],
   "source": [
    "#link,parse, and load Ohio Cities and Counties data\n",
    "\n",
    "wbpg = requests.get(\"https://www.corragroup.com/ohio-county-lookup.html\")\n",
    "tbl_content = soup(wbpg.content,\"html.parser\")\n",
    "\n",
    "#create dataframe based on wbpg table\n",
    "df_list = pd.read_html(wbpg.text)\n",
    "df = df_list[0]"
   ]
  },
  {
   "cell_type": "code",
   "execution_count": null,
   "metadata": {},
   "outputs": [],
   "source": [
    "#remove Zip code column\n",
    "df2 = df.drop(columns=['ZIP Code'], axis=1)\n",
    "\n",
    "#Add State name column\n",
    "df2.insert(2,'State','OHIO')\n",
    "\n",
    "#format all columns into Proper Case format\n",
    "df2[['City','County','State']] = df2[['City','County','State']].astype(str).apply(lambda col: col.str.title())\n",
    "\n",
    "#Updating County names for those Cities with incorrect County Names:\n",
    "#Chagrin Falls (Cuyahoga), Cincinnati(Hamilton), Danville(Knox), Dayton(Montgomery), \n",
    "#Fairfax(Hamilton), Laurelville(Hocking), Loveland(Hamilton), Northwood(Wood), \n",
    "#Riverside(Montgomery), Dillonvale(Jefferson), Lima(Allen)\n",
    "\n",
    "df2.loc[(df2['City']=='Chagrin Falls')] = df2.loc[(df2['County']=='Cuyahoga')]\n",
    "df2.loc[(df2['City']=='Cincinnati')] = df2.loc[(df2['County']=='Hamilton')]\n",
    "df2.loc[(df2['City']=='Danville')] = df2.loc[(df2['County']=='Knox')]\n",
    "df2.loc[(df2['City']=='Dayton')] = df2.loc[(df2['County']=='Montgomery')]\n",
    "df2.loc[(df2['City']=='Fairfax')] = df2.loc[(df2['County']=='Hamilton')]\n",
    "df2.loc[(df2['City']=='Laurelville')] = df2.loc[(df2['County']=='Hocking')]\n",
    "df2.loc[(df2['City']=='Loveland')] = df2.loc[(df2['County']=='Hamilton')]\n",
    "df2.loc[(df2['City']=='Northwood')] = df2.loc[(df2['County']=='Wood')]\n",
    "df2.loc[(df2['City']=='Riverside')] = df2.loc[(df2['County']=='Montgomery')]\n",
    "df2.loc[(df2['City']=='Dillonvale')] = df2.loc[(df2['County']=='Jefferson')]\n",
    "df2.loc[(df2['City']=='Lima')] = df2.loc[(df2['County']=='Allen')]\n",
    "\n",
    "#Remove null city records\n",
    "df2 = df2.dropna(subset=['City'])\n",
    "\n",
    "#convert clean file to .csv\n",
    "#df2.to_csv('city_county_v2.csv',index=False)\n"
   ]
  },
  {
   "cell_type": "code",
   "execution_count": null,
   "metadata": {},
   "outputs": [],
   "source": [
    "#read crime dataset .csv file using pandas\n",
    "crime_dataset = pd.read_csv(\"crime_data_files_merged.csv\")\n",
    "\n",
    "#create df of crime dataset .csv file\n",
    "crime_df = pd.DataFrame(crime_dataset)\n",
    "\n",
    "# add conditional statement to identify size of city\n",
    "conditions = [\n",
    "    (crime_df['Population'] <=100000),\n",
    "    (crime_df['Population'] >100000) & (crime_df['Population'] <=400000),\n",
    "    (crime_df['Population'] >400000)\n",
    "]\n",
    "\n",
    "# Assign city size based on population: Small city < 100K,\n",
    "# Medium city >100K & <400K, Large city >400K\n",
    "conditional_values = ['small', 'medium', 'large']\n",
    "\n",
    "#create City Size column in crime_df\n",
    "crime_df['City_size'] = np.select(conditions,conditional_values)    "
   ]
  },
  {
   "cell_type": "code",
   "execution_count": null,
   "metadata": {},
   "outputs": [],
   "source": [
    "#Inner Join city/county df2 to crime datasets using city as the key\n",
    "merge_df = pd.merge(crime_df,df2, how='inner', on=['City'])\n",
    "\n",
    "#export results to csv files\n",
    "# merge_df.to_csv('master_crime_data.csv', index=False)"
   ]
  },
  {
   "cell_type": "code",
   "execution_count": null,
   "metadata": {},
   "outputs": [],
   "source": [
    "#Summarize the Crime Categories Total by Year\n",
    "crime_cat_year = merge_df.groupby(['Crime_category', 'Crime_year'])['Crime_count'].sum()\n",
    "print(crime_cat_year)"
   ]
  },
  {
   "cell_type": "code",
   "execution_count": null,
   "metadata": {},
   "outputs": [],
   "source": [
    "#Summarize Crime Type Total by Sorted Descending Year\n",
    "crime_type_year = merge_df.groupby(['Crime_type','Crime_year'])['Crime_count'].sum()\n",
    "print(crime_type_year.sort_index(ascending=False,))"
   ]
  },
  {
   "cell_type": "code",
   "execution_count": null,
   "metadata": {},
   "outputs": [],
   "source": [
    "#Counting highest crime type for each year\n",
    "\n",
    "crime_stats = merge_df.groupby(['Crime_year', 'Crime_type'])['Crime_count'].sum()\n",
    "print(crime_stats.sort_values(ascending=False))"
   ]
  },
  {
   "cell_type": "code",
   "execution_count": null,
   "metadata": {},
   "outputs": [],
   "source": [
    "#Group  city size, crime year and types\n",
    "crime_city_size = merge_df.groupby(['City_size', 'Crime_year', 'Crime_type'])['Crime_count'].sum()\n",
    "print(crime_city_size.sort_values(ascending=False))\n",
    "\n",
    "crime_city_size.to_csv('crime_city_size.csv')\n"
   ]
  },
  {
   "cell_type": "code",
   "execution_count": null,
   "metadata": {},
   "outputs": [],
   "source": [
    "\"\"\" #Create file name and write my data into a file and export it to .csv\n",
    "file_name = \"OH_City_County_State_List.csv\"\n",
    "with open(file_name, \"w\", newline=\"\") as file:\n",
    "    w = csv.DictWriter(file,[\"city\", \"county\", \"state\"])\n",
    "\n",
    "#Export results to a csv file without the index column\n",
    "df2.to_csv(file_name,index=False) \"\"\""
   ]
  }
 ],
 "metadata": {
  "kernelspec": {
   "display_name": "Python 3",
   "language": "python",
   "name": "python3"
  },
  "language_info": {
   "codemirror_mode": {
    "name": "ipython",
    "version": 3
   },
   "file_extension": ".py",
   "mimetype": "text/x-python",
   "name": "python",
   "nbconvert_exporter": "python",
   "pygments_lexer": "ipython3",
   "version": "3.11.2"
  },
  "orig_nbformat": 4
 },
 "nbformat": 4,
 "nbformat_minor": 2
}
