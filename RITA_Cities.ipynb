{
 "cells": [
  {
   "cell_type": "code",
   "execution_count": 2,
   "metadata": {},
   "outputs": [],
   "source": [
    "#load packages for webscraping effort\n",
    "import pandas as pd\n",
    "import numpy as np\n",
    "import requests\n",
    "from bs4 import BeautifulSoup as soup\n",
    "import csv"
   ]
  },
  {
   "cell_type": "code",
   "execution_count": 3,
   "metadata": {},
   "outputs": [],
   "source": [
    "#link and load Ohio Cities Website\n",
    "\n",
    "wbpg = requests.get(\"https://www.ritaohio.com/Municipalities\")\n",
    "tbl_content = soup(wbpg.content,\"html.parser\")\n",
    "\n",
    "\n",
    "#identify HTML section that includes city\n",
    "results = tbl_content.find(\"ul\", attrs={\"class\": \"ritaMemberList\"})\n",
    "\n",
    "#include variable for looping output\n",
    "cities = []\n",
    "\n",
    "#loop through the 'li' lines with the HREF section and parse/append records together within df\n",
    "for city_rec in results.find_all(\"li\"):\n",
    "    records = city_rec.a[\"href\"].split()\n",
    "    clean_city = city_rec.text\n",
    "    cities.append({\n",
    "        \"Cities\": clean_city\n",
    "    })\n",
    "\n",
    "#formally create df of ohio cities\n",
    "df = pd.DataFrame(cities)\n",
    "\n",
    "#Export df to csv file\n",
    "df.to_csv(\"OH_Cities.csv\",sep=\",\",index=False)"
   ]
  },
  {
   "cell_type": "code",
   "execution_count": 7,
   "metadata": {},
   "outputs": [
    {
     "name": "stdout",
     "output_type": "stream",
     "text": [
      "             Cities          cities\n",
      "0          Aberdeen        Aberdeen\n",
      "1               Ada             Ada\n",
      "2          Addyston        Addyston\n",
      "3           Adelphi         Adelphi\n",
      "4        Alexandria      Alexandria\n",
      "..              ...             ...\n",
      "371       Woodstock       Woodstock\n",
      "372     Worthington     Worthington\n",
      "373           Xenia           Xenia\n",
      "374  Yellow Springs  Yellow Springs\n",
      "375      Youngstown      Youngstown\n",
      "\n",
      "[376 rows x 2 columns]\n"
     ]
    }
   ],
   "source": [
    "#reading csv contents while establishing df\n",
    "\n",
    "df = pd.read_csv(\"OH_Cities.csv\")\n",
    "\n",
    "#Keeping only City Names by keeping text before () deliminiter\n",
    "df[\"cities\"] = df[\"Cities\"].str.split('(').str[0]\n",
    "print(df)\n",
    "\n",
    "df.to_csv(\"added_city_col.csv\",sep=\",\",index=False)\n",
    "\n",
    "#Create Left Join to \n"
   ]
  }
 ],
 "metadata": {
  "kernelspec": {
   "display_name": "Python 3",
   "language": "python",
   "name": "python3"
  },
  "language_info": {
   "codemirror_mode": {
    "name": "ipython",
    "version": 3
   },
   "file_extension": ".py",
   "mimetype": "text/x-python",
   "name": "python",
   "nbconvert_exporter": "python",
   "pygments_lexer": "ipython3",
   "version": "3.11.2"
  },
  "orig_nbformat": 4
 },
 "nbformat": 4,
 "nbformat_minor": 2
}
